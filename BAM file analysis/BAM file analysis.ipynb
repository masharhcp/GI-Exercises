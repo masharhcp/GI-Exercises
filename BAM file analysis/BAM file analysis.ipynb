{
 "cells": [
  {
   "cell_type": "code",
   "execution_count": 173,
   "metadata": {},
   "outputs": [
    {
     "name": "stdout",
     "output_type": "stream",
     "text": [
      "C0HVYACXX120402:7:1207:5722:57044\t1187\t20\t9483248\t27\t76M\t20\t9483381\t76\tTTTTCAAACAGTATCTATGCCTGCCAAATGTGAACATATAAAAAAAAACCAGAATGTGCCATTCTGATTTAAACTG\tarray('B', [28, 28, 27, 29, 31, 30, 31, 31, 29, 31, 35, 30, 29, 31, 34, 30, 29, 23, 41, 32, 20, 30, 29, 34, 34, 29, 30, 31, 30, 30, 30, 33, 33, 26, 39, 12, 25, 19, 32, 30, 35, 28, 35, 33, 23, 33, 35, 36, 30, 38, 33, 41, 34, 35, 31, 33, 23, 30, 30, 36, 27, 32, 29, 34, 35, 41, 33, 31, 33, 29, 32, 32, 31, 31, 31, 34])\t[('XA', 'GL000217.1,-110754,76M,1;'), ('BD', 'NNNNNNNNNNNNNNNNNNNNNNNNNNNNNNNNNNNNNNNNNNNNNNNNNNNNNNNNNNNNNNNNNNNNNNNNNNNN'), ('MD', '76'), ('RG', '1'), ('BI', 'NNNNNNNNNNNNNNNNNNNNNNNNNNNNNNNNNNNNNNNNNNNNNNNNNNNNNNNNNNNNNNNNNNNNNNNNNNNN'), ('NM', 0), ('MQ', 27), ('AS', 76), ('XS', 71)]\n"
     ]
    }
   ],
   "source": [
    "import pysam\n",
    "for read in pysam.AlignmentFile(\"/sbgenomics/project-files/merged-tumor.bam\", \"rb\").fetch():\n",
    "     print read\n",
    "     break       "
   ]
  },
  {
   "cell_type": "code",
   "execution_count": 174,
   "metadata": {},
   "outputs": [
    {
     "name": "stdout",
     "output_type": "stream",
     "text": [
      "C0HVYACXX120402:7:1207:5722:57044\t1187\t20\t9483248\t27\t76M\t20\t9483381\t76\tTTTTCAAACAGTATCTATGCCTGCCAAATGTGAACATATAAAAAAAAACCAGAATGTGCCATTCTGATTTAAACTG\tarray('B', [28, 28, 27, 29, 31, 30, 31, 31, 29, 31, 35, 30, 29, 31, 34, 30, 29, 23, 41, 32, 20, 30, 29, 34, 34, 29, 30, 31, 30, 30, 30, 33, 33, 26, 39, 12, 25, 19, 32, 30, 35, 28, 35, 33, 23, 33, 35, 36, 30, 38, 33, 41, 34, 35, 31, 33, 23, 30, 30, 36, 27, 32, 29, 34, 35, 41, 33, 31, 33, 29, 32, 32, 31, 31, 31, 34])\t[('XA', 'GL000217.1,-110754,76M,1;'), ('BD', 'NNNNNNNNNNNNNNNNNNNNNNNNNNNNNNNNNNNNNNNNNNNNNNNNNNNNNNNNNNNNNNNNNNNNNNNNNNNN'), ('MD', '76'), ('RG', '1'), ('BI', 'NNNNNNNNNNNNNNNNNNNNNNNNNNNNNNNNNNNNNNNNNNNNNNNNNNNNNNNNNNNNNNNNNNNNNNNNNNNN'), ('NM', 0), ('MQ', 27), ('AS', 76), ('XS', 71)]\n"
     ]
    }
   ],
   "source": [
    "import pysam\n",
    "for read in pysam.AlignmentFile(\"/sbgenomics/project-files/merged-tumor.bam\", \"rb\").fetch(\"21\"):\n",
    "     print read\n",
    "     break   "
   ]
  },
  {
   "cell_type": "code",
   "execution_count": 175,
   "metadata": {},
   "outputs": [
    {
     "name": "stdout",
     "output_type": "stream",
     "text": [
      "D0RE2ACXX120401:6:2306:10001:117092\t163\t21\t16084487\t0\t76M\t21\t16084596\t76\tCACATACTGGTCTCTGCCTCCATAGCTTCCACTGTGCCCAGGACTGGGAGCAGTGTGGGAGCTTCTGGCTGGAGCT\tarray('B', [28, 31, 30, 29, 31, 16, 34, 34, 40, 37, 32, 41, 35, 41, 37, 40, 40, 38, 37, 42, 38, 32, 33, 32, 41, 40, 37, 34, 42, 38, 34, 40, 36, 41, 31, 40, 40, 38, 38, 34, 41, 37, 32, 40, 37, 42, 37, 37, 33, 41, 39, 33, 42, 33, 40, 33, 41, 37, 37, 33, 41, 39, 38, 34, 41, 37, 41, 37, 40, 35, 39, 35, 31, 30, 30, 32])\t[('BD', 'NNNNNNNNNNNNNNNNNNNNNNNNNNNNNNNNNNNNNNNNNNNNNNNNNNNNNNNNNNNNNNNNNNNNNNNNNNNN'), ('MD', '5C70'), ('RG', '1'), ('BI', 'NNNNNNNNNNNNNNNNNNNNNNNNNNNNNNNNNNNNNNNNNNNNNNNNNNNNNNNNNNNNNNNNNNNNNNNNNNNN'), ('NM', 1), ('MQ', 0), ('AS', 71), ('XS', 71)]\n"
     ]
    }
   ],
   "source": [
    "import pysam\n",
    "for read in pysam.AlignmentFile(\"/sbgenomics/project-files/merged-tumor.bam\", \"rb\").fetch(\"22\"):\n",
    "     print read\n",
    "     break   "
   ]
  },
  {
   "cell_type": "code",
   "execution_count": 176,
   "metadata": {},
   "outputs": [
    {
     "name": "stdout",
     "output_type": "stream",
     "text": [
      "D0RE2ACXX120401:7:1305:21133:154037\t99\t23\t2712027\t60\t76M\t23\t2712200\t76\tTATGCAGAACTAAAGTACGTCATCTGCTCAATCTGGTTACATAAGGAGTGGATCTTCTTAGATTAGGTTACCTTTC\tarray('B', [31, 28, 28, 34, 36, 35, 40, 32, 35, 39, 36, 29, 36, 32, 38, 31, 31, 40, 32, 31, 35, 31, 32, 41, 36, 41, 36, 33, 40, 33, 35, 31, 41, 36, 41, 36, 31, 31, 32, 37, 33, 32, 32, 33, 38, 36, 34, 42, 30, 40, 37, 32, 32, 40, 37, 31, 40, 33, 35, 32, 36, 28, 31, 34, 31, 41, 37, 31, 12, 28, 36, 36, 31, 28, 31, 35])\t[('BD', 'NNNNNNNNNNNNNNNNNNNNNNNNNNNNNNNNNNNNNNNNNNNNNNNNNNNNNNNNNNNNNNNNNNNNNNNNNNNN'), ('MD', '76'), ('RG', '1'), ('BI', 'NNNNNNNNNNNNNNNNNNNNNNNNNNNNNNNNNNNNNNNNNNNNNNNNNNNNNNNNNNNNNNNNNNNNNNNNNNNN'), ('NM', 0), ('MQ', 60), ('AS', 76), ('XS', 0)]\n"
     ]
    }
   ],
   "source": [
    "import pysam\n",
    "for read in pysam.AlignmentFile(\"/sbgenomics/project-files/merged-tumor.bam\", \"rb\").fetch(\"Y\"):\n",
    "     print read\n",
    "     break "
   ]
  },
  {
   "cell_type": "code",
   "execution_count": 177,
   "metadata": {},
   "outputs": [
    {
     "name": "stdout",
     "output_type": "stream",
     "text": [
      "Number of reads: 2921629\n"
     ]
    }
   ],
   "source": [
    "import pysam\n",
    "counter = 0\n",
    "samfile = pysam.AlignmentFile(\"/sbgenomics/project-files/merged-tumor.bam\", \"rb\")\n",
    "for read in samfile.fetch():\n",
    "     counter = counter+1\n",
    "print(\"Number of reads: \" + str(counter))"
   ]
  },
  {
   "cell_type": "code",
   "execution_count": 169,
   "metadata": {},
   "outputs": [
    {
     "name": "stdout",
     "output_type": "stream",
     "text": [
      "21: 907316\n",
      "22: 2009820\n",
      "Y: 3253\n",
      "Total: 2920389\n"
     ]
    }
   ],
   "source": [
    "import pysam\n",
    "counter21 = 0\n",
    "counter22 = 0\n",
    "counterY = 0\n",
    "\n",
    "samfile = pysam.AlignmentFile(\"/sbgenomics/project-files/merged-tumor.bam\", \"rb\")\n",
    "for read in samfile.fetch(\"Y\"):\n",
    "     counterY = counterY+1\n",
    "for read in samfile.fetch(\"21\"):\n",
    "     counter21 = counter21+1\n",
    "for read in samfile.fetch(\"22\"):\n",
    "     counter22 = counter22+1\n",
    " \n",
    "print(\"21: \"+ str(counter21)) \n",
    "print(\"22: \"+ str(counter22))        \n",
    "print(\"Y: \"+ str(counterY))\n",
    "print(\"Total: \" + str(counterY+counter22+counter21))"
   ]
  },
  {
   "cell_type": "code",
   "execution_count": 182,
   "metadata": {},
   "outputs": [
    {
     "name": "stdout",
     "output_type": "stream",
     "text": [
      "Mapped reads: 2903864\n"
     ]
    }
   ],
   "source": [
    "import pysam\n",
    "counter = 0\n",
    "samfile = pysam.AlignmentFile(\"/sbgenomics/project-files/merged-tumor.bam\", \"rb\")\n",
    "for read in samfile.fetch():\n",
    "    if not read.is_unmapped:\n",
    "        counter += 1\n",
    "print(\"Mapped reads: \" + str(counter))"
   ]
  },
  {
   "cell_type": "code",
   "execution_count": 181,
   "metadata": {},
   "outputs": [
    {
     "name": "stdout",
     "output_type": "stream",
     "text": [
      "Unmapped reads: 17765\n"
     ]
    }
   ],
   "source": [
    "import pysam\n",
    "counter = 0\n",
    "samfile = pysam.AlignmentFile(\"/sbgenomics/project-files/merged-tumor.bam\", \"rb\")\n",
    "for read in samfile.fetch():\n",
    "    if read.is_unmapped:\n",
    "        counter += 1\n",
    "print(\"Unmapped reads: \" + str(counter))"
   ]
  },
  {
   "cell_type": "code",
   "execution_count": 183,
   "metadata": {},
   "outputs": [
    {
     "name": "stdout",
     "output_type": "stream",
     "text": [
      "Reads with mapping quality 0: 126628\n"
     ]
    }
   ],
   "source": [
    "import pysam\n",
    "counter = 0\n",
    "samfile = pysam.AlignmentFile(\"/sbgenomics/project-files/merged-tumor.bam\", \"rb\")\n",
    "for read in samfile.fetch():\n",
    "    if read.mapping_quality==0:\n",
    "        counter += 1\n",
    "print(\"Reads with mapping quality 0: \" + str(counter))"
   ]
  },
  {
   "cell_type": "code",
   "execution_count": 185,
   "metadata": {},
   "outputs": [
    {
     "name": "stdout",
     "output_type": "stream",
     "text": [
      "Average mapping quality for all reads: 55\n"
     ]
    }
   ],
   "source": [
    "import pysam\n",
    "counter = 0\n",
    "mappingQuality = 0\n",
    "samfile = pysam.AlignmentFile(\"/sbgenomics/project-files/merged-tumor.bam\", \"rb\")\n",
    "for read in samfile.fetch():\n",
    "        mappingQuality += read.mapping_quality\n",
    "        counter += 1\n",
    "print(\"Average mapping quality for all reads: \" + str(mappingQuality/counter))"
   ]
  },
  {
   "cell_type": "code",
   "execution_count": 184,
   "metadata": {},
   "outputs": [
    {
     "name": "stdout",
     "output_type": "stream",
     "text": [
      "Average mapping quality without the reads with mapping quality 0: 58\n"
     ]
    }
   ],
   "source": [
    "import pysam\n",
    "counter = 0\n",
    "mappingQuality = 0\n",
    "samfile = pysam.AlignmentFile(\"/sbgenomics/project-files/merged-tumor.bam\", \"rb\")\n",
    "for read in samfile.fetch():\n",
    "    if read.mapping_quality!=0:\n",
    "        mappingQuality += read.mapping_quality\n",
    "        counter += 1\n",
    "print(\"Average mapping quality without the reads with mapping quality 0: \" + str(mappingQuality/counter))"
   ]
  },
  {
   "cell_type": "code",
   "execution_count": null,
   "metadata": {},
   "outputs": [],
   "source": []
  }
 ],
 "metadata": {
  "kernelspec": {
   "display_name": "Python 2",
   "language": "python",
   "name": "python2"
  },
  "language_info": {
   "codemirror_mode": {
    "name": "ipython",
    "version": 2
   },
   "file_extension": ".py",
   "mimetype": "text/x-python",
   "name": "python",
   "nbconvert_exporter": "python",
   "pygments_lexer": "ipython2",
   "version": "2.7.14"
  }
 },
 "nbformat": 4,
 "nbformat_minor": 2
}
